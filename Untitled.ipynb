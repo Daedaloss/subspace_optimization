{
 "cells": [
  {
   "cell_type": "markdown",
   "metadata": {},
   "source": [
    "## Imports"
   ]
  },
  {
   "cell_type": "markdown",
   "metadata": {},
   "source": [
    "Check readme for dependencies!"
   ]
  },
  {
   "cell_type": "code",
   "execution_count": 1,
   "metadata": {},
   "outputs": [],
   "source": [
    "%matplotlib inline\n",
    "\n",
    "# pymanopt\n",
    "from pymanopt.manifolds import Stiefel\n",
    "from pymanopt import Problem\n",
    "from pymanopt.solvers import TrustRegions\n",
    "\n",
    "# autograd\n",
    "import autograd.numpy as np\n",
    "\n",
    "# subspace optimization method\n",
    "import subspace_optimization\n",
    "from subspace_optimization import orth_subspaces\n",
    "\n",
    "import scipy.linalg as LA\n",
    "import pandas as pd\n",
    "import matplotlib.pyplot as plt"
   ]
  },
  {
   "cell_type": "markdown",
   "metadata": {},
   "source": [
    "## Create toy data "
   ]
  },
  {
   "cell_type": "markdown",
   "metadata": {},
   "source": [
    "Function creates surrogate data to apply the subspace optimization to"
   ]
  },
  {
   "cell_type": "code",
   "execution_count": 5,
   "metadata": {},
   "outputs": [],
   "source": [
    "def create_toy_data(theta, var_b, n_samples_b):\n",
    "    \n",
    "    '''\n",
    "    Parameters\n",
    "    ----------\n",
    "    theta : angle by which dataset B is rotated with respect to dataset A | float\n",
    "    var_b : variance by which dataset B is scaled with respect to dataset B | float in range (btw. 0. & 1.)\n",
    "    n_samples : number of samples in dataset B | int (> 1)\n",
    "    \n",
    "    Returns\n",
    "    -------\n",
    "    A, B : two datasets | 2D arrays shape(n_samples,dim)\n",
    "    '''\n",
    "\n",
    "    \n",
    "    n_samples_a              = 1000 # number of datapoints for dataset A\n",
    "    dim                      = 2 # Note, for the sake of this example dim is 2D and equal for both subspaces. Method supports arbitrary (& different btw. datasets) dimensionalities\n",
    "    \n",
    "                               # rotation matrix to rotate one dataset relative to other\n",
    "    rotMtx                   = np.array([np.cos(theta*np.pi/180), np.sin(theta*np.pi/180), - np.sin(theta*np.pi/180), np.cos(theta*np.pi/180)]).reshape(2,2)\n",
    "\n",
    "    # create datasets\n",
    "    A = np.random.randn(n_samples_a,dim)\n",
    "    B = np.random.randn(n_samples_b,dim)\n",
    "\n",
    "    # find an orthonormal basis\n",
    "    Q = LA.orth(np.random.randn(dim,dim)) \n",
    "\n",
    "    Q_a = Q[:,0]\n",
    "    Q_b = np.dot(rotMtx,Q[:,1]) # rotate one of the orthonormal vectors\n",
    "\n",
    "    # projection matrices\n",
    "    Q_a = np.outer(Q_a,Q_a)\n",
    "    Q_b = np.outer(Q_b,Q_b)\n",
    "\n",
    "    # generate data at the two subspaces\n",
    "    A = np.dot(A,Q_a) + 0.05 * np.random.randn(*A.shape)\n",
    "    B = var_b * (np.dot(B,Q_b) + 0.05 * np.random.randn(*B.shape)) # Note, constant factor controls vrariance on second data dimension which we ignore in examples \n",
    "    \n",
    "    \n",
    "    return A, B\n",
    "\n"
   ]
  },
  {
   "cell_type": "markdown",
   "metadata": {},
   "source": [
    "## perform optimization & plot"
   ]
  },
  {
   "cell_type": "markdown",
   "metadata": {},
   "source": [
    "performs optimization in this case for specific configurations of rotation angle, sample sizes and variances"
   ]
  },
  {
   "cell_type": "code",
   "execution_count": 11,
   "metadata": {
    "scrolled": true
   },
   "outputs": [
    {
     "name": "stdout",
     "output_type": "stream",
     "text": [
      "2\n",
      "Compiling cost function...\n",
      "Computing gradient of cost function...\n",
      "Computing Hessian of cost function...\n",
      "[0.00176001 0.0005587 ]\n",
      "[<autograd.numpy.numpy_boxes.ArrayBox object at 0x0000022A4BDF5C08>\n",
      " <autograd.numpy.numpy_boxes.ArrayBox object at 0x0000022A4BDCAF88>]\n",
      "Optimizing...\n",
      "                                            f: +9.976813e-01   |grad|: 4.643595e-02\n",
      "[<autograd.numpy.numpy_boxes.ArrayBox object at 0x0000022A4BDCA508>\n",
      " <autograd.numpy.numpy_boxes.ArrayBox object at 0x0000022A4BDE8108>]\n",
      "[<autograd.numpy.numpy_boxes.ArrayBox object at 0x0000022A4BDF5508>\n",
      " <autograd.numpy.numpy_boxes.ArrayBox object at 0x0000022A4BDCA608>]\n",
      "[0.01356829 0.01216523]\n",
      "[<autograd.numpy.numpy_boxes.ArrayBox object at 0x0000022A4BDCAE48>\n",
      " <autograd.numpy.numpy_boxes.ArrayBox object at 0x0000022A4BDE3288>]\n",
      "acc TR+   k:     1     num_inner:     0     f: +9.742665e-01   |grad|: 2.184724e-01   negative curvature\n",
      "[<autograd.numpy.numpy_boxes.ArrayBox object at 0x0000022A4BDE3B08>\n",
      " <autograd.numpy.numpy_boxes.ArrayBox object at 0x0000022A4BDE8888>]\n",
      "[<autograd.numpy.numpy_boxes.ArrayBox object at 0x0000022A4BCE3388>\n",
      " <autograd.numpy.numpy_boxes.ArrayBox object at 0x0000022A4BDE3888>]\n",
      "[0.0779711  0.07632927]\n",
      "[<autograd.numpy.numpy_boxes.ArrayBox object at 0x0000022A4BCC9F48>\n",
      " <autograd.numpy.numpy_boxes.ArrayBox object at 0x0000022A49C69408>]\n",
      "acc TR+   k:     2     num_inner:     0     f: +8.456996e-01   |grad|: 5.088116e-01   negative curvature\n",
      "[<autograd.numpy.numpy_boxes.ArrayBox object at 0x0000022A4BCC9688>\n",
      " <autograd.numpy.numpy_boxes.ArrayBox object at 0x0000022A4BDE3E88>]\n",
      "[<autograd.numpy.numpy_boxes.ArrayBox object at 0x0000022A4BCD4C08>\n",
      " <autograd.numpy.numpy_boxes.ArrayBox object at 0x0000022A4BDCA708>]\n",
      "[0.29102992 0.28962503]\n",
      "[<autograd.numpy.numpy_boxes.ArrayBox object at 0x0000022A3A02CC88>\n",
      " <autograd.numpy.numpy_boxes.ArrayBox object at 0x0000022A4BDE3D08>]\n",
      "acc TR+   k:     3     num_inner:     0     f: +4.193450e-01   |grad|: 6.971013e-01   negative curvature\n",
      "[<autograd.numpy.numpy_boxes.ArrayBox object at 0x0000022A4BDD9688>\n",
      " <autograd.numpy.numpy_boxes.ArrayBox object at 0x0000022A4BDCAF88>]\n",
      "[<autograd.numpy.numpy_boxes.ArrayBox object at 0x0000022A4BDE8E88>\n",
      " <autograd.numpy.numpy_boxes.ArrayBox object at 0x0000022A4BDE3D88>]\n",
      "[0.49670033 0.4968433 ]\n",
      "[<autograd.numpy.numpy_boxes.ArrayBox object at 0x0000022A4BCADB48>\n",
      " <autograd.numpy.numpy_boxes.ArrayBox object at 0x0000022A4BDE0BC8>]\n",
      "acc       k:     4     num_inner:     0     f: +6.456372e-03   |grad|: 1.131885e-01   exceeded trust region\n",
      "[<autograd.numpy.numpy_boxes.ArrayBox object at 0x0000022A4BCE33C8>\n",
      " <autograd.numpy.numpy_boxes.ArrayBox object at 0x0000022A4BDF50C8>]\n",
      "[<autograd.numpy.numpy_boxes.ArrayBox object at 0x0000022A4BDE8888>\n",
      " <autograd.numpy.numpy_boxes.ArrayBox object at 0x0000022A4BDF0C08>]\n",
      "[0.49999991 0.49999893]\n",
      "[<autograd.numpy.numpy_boxes.ArrayBox object at 0x0000022A4BDCA2C8>\n",
      " <autograd.numpy.numpy_boxes.ArrayBox object at 0x0000022A49C69608>]\n",
      "acc       k:     5     num_inner:     0     f: +1.155934e-06   |grad|: 7.411434e-04   maximum inner iterations\n",
      "[<autograd.numpy.numpy_boxes.ArrayBox object at 0x0000022A4BDCAB88>\n",
      " <autograd.numpy.numpy_boxes.ArrayBox object at 0x0000022A4BDE3088>]\n",
      "[<autograd.numpy.numpy_boxes.ArrayBox object at 0x0000022A4BCE33C8>\n",
      " <autograd.numpy.numpy_boxes.ArrayBox object at 0x0000022A4BDE3F48>]\n",
      "[0.49999956 0.49999956]\n",
      "[<autograd.numpy.numpy_boxes.ArrayBox object at 0x0000022A4BDCAE48>\n",
      " <autograd.numpy.numpy_boxes.ArrayBox object at 0x0000022A4BDC1A48>]\n",
      "acc       k:     6     num_inner:     0     f: +8.809466e-07   |grad|: 2.040581e-10   maximum inner iterations\n",
      "Terminated - min grad norm reached after 6 iterations, 0.13 seconds.\n",
      "\n"
     ]
    }
   ],
   "source": [
    "# get toy data with specific angle btw. datasets\n",
    "# the rest is matched btw. datasets for this example\n",
    "theta = 0.\n",
    "var_b = 1.\n",
    "n_samples_b = 1000\n",
    "\n",
    "A,B = create_toy_data(theta, var_b ,n_samples_b)\n",
    "# set up data (dimensionalities set two 1 for sake of example)\n",
    "DataStruct = pd.DataFrame([[A, 1], [B, 1]], columns=['A', 'dim'])\n",
    "# preprocess data\n",
    "dat_proc = orth_subspaces(DataStruct)\n",
    "# perform optimization\n",
    "Q_opt = dat_proc.estimate_orth_subspaces(DataStruct)\n",
    "\n"
   ]
  },
  {
   "cell_type": "code",
   "execution_count": 7,
   "metadata": {},
   "outputs": [
    {
     "data": {
      "image/png": "[encoded data removed]",
      "text/plain": [
       "<Figure size 432x288 with 1 Axes>"
      ]
     },
     "metadata": {},
     "output_type": "display_data"
    }
   ],
   "source": [
    "dat_proc.plot_demo(DataStruct, Q_opt)"
   ]
  },
  {
   "cell_type": "markdown",
   "metadata": {},
   "source": [
    "In this example, datasets (point clouds) are othogonal such that the optimized orthogonal subspaces (lines) align with respective datasets.\n",
    "This is also indicated by the separation index: 1 = orthogonal datasets; .5 = aligned datasets"
   ]
  },
  {
   "cell_type": "markdown",
   "metadata": {},
   "source": [
    "In the following we increase alignment of datasets by changing theta: "
   ]
  },
  {
   "cell_type": "code",
   "execution_count": 16,
   "metadata": {},
   "outputs": [
    {
     "name": "stdout",
     "output_type": "stream",
     "text": [
      "2\n",
      "Compiling cost function...\n",
      "Computing gradient of cost function...\n",
      "Computing Hessian of cost function...\n",
      "[0.49957531 0.23508296]\n",
      "[<autograd.numpy.numpy_boxes.ArrayBox object at 0x0000022A4BEC8488>\n",
      " <autograd.numpy.numpy_boxes.ArrayBox object at 0x0000022A4BEB7CC8>]\n",
      "Optimizing...\n",
      "                                            f: +2.653417e-01   |grad|: 3.734586e-01\n",
      "[<autograd.numpy.numpy_boxes.ArrayBox object at 0x0000022A4BEB7F48>\n",
      " <autograd.numpy.numpy_boxes.ArrayBox object at 0x0000022A4BEB7B48>]\n",
      "[<autograd.numpy.numpy_boxes.ArrayBox object at 0x0000022A4BEC8048>\n",
      " <autograd.numpy.numpy_boxes.ArrayBox object at 0x0000022A4BEC8E08>]\n",
      "[0.49549637 0.29696491]\n",
      "[<autograd.numpy.numpy_boxes.ArrayBox object at 0x0000022A4BE5C608>\n",
      " <autograd.numpy.numpy_boxes.ArrayBox object at 0x0000022A4BEC8E08>]\n",
      "acc TR+   k:     1     num_inner:     0     f: +2.075387e-01   |grad|: 2.805077e-01   exceeded trust region\n",
      "[<autograd.numpy.numpy_boxes.ArrayBox object at 0x0000022A4BEC8B08>\n",
      " <autograd.numpy.numpy_boxes.ArrayBox object at 0x0000022A4BDF45C8>]\n",
      "[<autograd.numpy.numpy_boxes.ArrayBox object at 0x0000022A4BEACD08>\n",
      " <autograd.numpy.numpy_boxes.ArrayBox object at 0x0000022A4BEC8808>]\n",
      "[0.44448662 0.40698518]\n",
      "[<autograd.numpy.numpy_boxes.ArrayBox object at 0x0000022A4BE63148>\n",
      " <autograd.numpy.numpy_boxes.ArrayBox object at 0x0000022A4BE584C8>]\n",
      "acc TR+   k:     2     num_inner:     0     f: +1.485282e-01   |grad|: 5.330618e-02   exceeded trust region\n",
      "[<autograd.numpy.numpy_boxes.ArrayBox object at 0x0000022A4BDEAF88>\n",
      " <autograd.numpy.numpy_boxes.ArrayBox object at 0x0000022A4BCC9148>]\n",
      "[<autograd.numpy.numpy_boxes.ArrayBox object at 0x0000022A4BEC8608>\n",
      " <autograd.numpy.numpy_boxes.ArrayBox object at 0x0000022A4BEC8688>]\n",
      "[0.42656571 0.42692522]\n",
      "[<autograd.numpy.numpy_boxes.ArrayBox object at 0x0000022A4BD510C8>\n",
      " <autograd.numpy.numpy_boxes.ArrayBox object at 0x0000022A49C4D408>]\n",
      "acc       k:     3     num_inner:     0     f: +1.465091e-01   |grad|: 1.534018e-04   maximum inner iterations\n",
      "[<autograd.numpy.numpy_boxes.ArrayBox object at 0x0000022A4BE5C608>\n",
      " <autograd.numpy.numpy_boxes.ArrayBox object at 0x0000022A4BDCA248>]\n",
      "[<autograd.numpy.numpy_boxes.ArrayBox object at 0x0000022A4BE63B48>\n",
      " <autograd.numpy.numpy_boxes.ArrayBox object at 0x0000022A4BE63188>]\n",
      "[0.42662003 0.42687091]\n",
      "[<autograd.numpy.numpy_boxes.ArrayBox object at 0x0000022A49C69048>\n",
      " <autograd.numpy.numpy_boxes.ArrayBox object at 0x0000022A4BDF4148>]\n",
      "acc       k:     4     num_inner:     0     f: +1.465091e-01   |grad|: 3.624749e-12   maximum inner iterations\n",
      "Terminated - min grad norm reached after 4 iterations, 0.09 seconds.\n",
      "\n"
     ]
    }
   ],
   "source": [
    "# get toy data with specific angle btw. datasets\n",
    "# the rest is matched btw. datasets for this example\n",
    "theta = 45.\n",
    "var_b = 1.\n",
    "n_samples_b = 1000\n",
    "\n",
    "A,B = create_toy_data(theta, var_b ,n_samples_b)\n",
    "# set up data (dimensionalities set two 1 for sake of example)\n",
    "DataStruct = pd.DataFrame([[A, 1], [B, 1]], columns=['A', 'dim'])\n",
    "# preprocess data\n",
    "dat_proc = orth_subspaces(DataStruct)\n",
    "# perform optimization\n",
    "Q_opt = dat_proc.estimate_orth_subspaces(DataStruct)\n",
    "\n"
   ]
  },
  {
   "cell_type": "code",
   "execution_count": 17,
   "metadata": {},
   "outputs": [
    {
     "data": {
      "image/png": "[encoded data removed]",
      "text/plain": [
       "<Figure size 432x288 with 1 Axes>"
      ]
     },
     "metadata": {},
     "output_type": "display_data"
    }
   ],
   "source": [
    "dat_proc.plot_demo(DataStruct, Q_opt)"
   ]
  },
  {
   "cell_type": "markdown",
   "metadata": {},
   "source": [
    "Note, although datasets are more aligend (see separation index) our optimization method identifies 2 orthogonal subspaces that both explain maximum amount of variance in the respective datasets (Note, maximal only under the constraint of orthogonality). Due to the fact that the datasets align each subspaces also captures some variance form the respective opther dataset.\n",
    "\n",
    "Now, we take a look at the extreme case:"
   ]
  },
  {
   "cell_type": "code",
   "execution_count": 18,
   "metadata": {},
   "outputs": [
    {
     "name": "stdout",
     "output_type": "stream",
     "text": [
      "2\n",
      "Compiling cost function...\n",
      "Computing gradient of cost function...\n",
      "Computing Hessian of cost function...\n",
      "[0.49925195 0.0009274 ]\n",
      "[<autograd.numpy.numpy_boxes.ArrayBox object at 0x0000022A4BF3E788>\n",
      " <autograd.numpy.numpy_boxes.ArrayBox object at 0x0000022A4BF3E508>]\n",
      "Optimizing...\n",
      "                                            f: +4.998206e-01   |grad|: 2.213368e-03\n",
      "[<autograd.numpy.numpy_boxes.ArrayBox object at 0x0000022A4BE31A48>\n",
      " <autograd.numpy.numpy_boxes.ArrayBox object at 0x0000022A4BF3EC08>]\n",
      "[<autograd.numpy.numpy_boxes.ArrayBox object at 0x0000022A4BF29508>\n",
      " <autograd.numpy.numpy_boxes.ArrayBox object at 0x0000022A4BF40C08>]\n",
      "[0.48685321 0.01372774]\n",
      "[<autograd.numpy.numpy_boxes.ArrayBox object at 0x0000022A4BF3E708>\n",
      " <autograd.numpy.numpy_boxes.ArrayBox object at 0x0000022A4BED1808>]\n",
      "acc TR+   k:     1     num_inner:     0     f: +4.994190e-01   |grad|: 2.330227e-03   negative curvature\n",
      "[<autograd.numpy.numpy_boxes.ArrayBox object at 0x0000022A4BF3E708>\n",
      " <autograd.numpy.numpy_boxes.ArrayBox object at 0x0000022A4BEC8608>]\n",
      "[<autograd.numpy.numpy_boxes.ArrayBox object at 0x0000022A4BF29508>\n",
      " <autograd.numpy.numpy_boxes.ArrayBox object at 0x0000022A4BF4AF88>]\n",
      "[0.42147266 0.07989895]\n",
      "[<autograd.numpy.numpy_boxes.ArrayBox object at 0x0000022A4BE45348>\n",
      " <autograd.numpy.numpy_boxes.ArrayBox object at 0x0000022A4BE58648>]\n",
      "acc TR+   k:     2     num_inner:     0     f: +4.986284e-01   |grad|: 2.142419e-03   negative curvature\n",
      "[<autograd.numpy.numpy_boxes.ArrayBox object at 0x0000022A4BED1888>\n",
      " <autograd.numpy.numpy_boxes.ArrayBox object at 0x0000022A4BE55B88>]\n",
      "[<autograd.numpy.numpy_boxes.ArrayBox object at 0x0000022A4BEE03C8>\n",
      " <autograd.numpy.numpy_boxes.ArrayBox object at 0x0000022A4BF40B08>]\n",
      "[0.20785199 0.29446719]\n",
      "[<autograd.numpy.numpy_boxes.ArrayBox object at 0x0000022A4BEE0208>\n",
      " <autograd.numpy.numpy_boxes.ArrayBox object at 0x0000022A4BEC8488>]\n",
      "acc TR+   k:     3     num_inner:     0     f: +4.976808e-01   |grad|: 5.376929e-04   exceeded trust region\n",
      "[<autograd.numpy.numpy_boxes.ArrayBox object at 0x0000022A4BEC8208>\n",
      " <autograd.numpy.numpy_boxes.ArrayBox object at 0x0000022A4BD5B988>]\n",
      "[<autograd.numpy.numpy_boxes.ArrayBox object at 0x0000022A4BDCA048>\n",
      " <autograd.numpy.numpy_boxes.ArrayBox object at 0x0000022A4BF3EE08>]\n",
      "[0.15177589 0.3505876 ]\n",
      "[<autograd.numpy.numpy_boxes.ArrayBox object at 0x0000022A4BF29608>\n",
      " <autograd.numpy.numpy_boxes.ArrayBox object at 0x0000022A4BEE0648>]\n",
      "acc       k:     4     num_inner:     0     f: +4.976365e-01   |grad|: 7.407129e-06   maximum inner iterations\n",
      "[<autograd.numpy.numpy_boxes.ArrayBox object at 0x0000022A4BDF0448>\n",
      " <autograd.numpy.numpy_boxes.ArrayBox object at 0x0000022A4BEE01C8>]\n",
      "[<autograd.numpy.numpy_boxes.ArrayBox object at 0x0000022A4BEB7B48>\n",
      " <autograd.numpy.numpy_boxes.ArrayBox object at 0x0000022A4BF4A6C8>]\n",
      "[0.15250162 0.34986188]\n",
      "[<autograd.numpy.numpy_boxes.ArrayBox object at 0x0000022A4BDDAE48>\n",
      " <autograd.numpy.numpy_boxes.ArrayBox object at 0x0000022A4BEC84C8>]\n",
      "acc       k:     5     num_inner:     0     f: +4.976365e-01   |grad|: 1.854848e-11   maximum inner iterations\n",
      "Terminated - min grad norm reached after 5 iterations, 0.13 seconds.\n",
      "\n"
     ]
    }
   ],
   "source": [
    "# get toy data with specific angle btw. datasets\n",
    "# the rest is matched btw. datasets for this example\n",
    "theta = 90.\n",
    "var_b = 1.\n",
    "n_samples_b = 1000\n",
    "\n",
    "A,B = create_toy_data(theta, var_b ,n_samples_b)\n",
    "# set up data (dimensionalities set two 1 for sake of example)\n",
    "DataStruct = pd.DataFrame([[A, 1], [B, 1]], columns=['A', 'dim'])\n",
    "# preprocess data\n",
    "dat_proc = orth_subspaces(DataStruct)\n",
    "# perform optimization\n",
    "Q_opt = dat_proc.estimate_orth_subspaces(DataStruct)"
   ]
  },
  {
   "cell_type": "code",
   "execution_count": 19,
   "metadata": {},
   "outputs": [
    {
     "data": {
      "image/png": "[encoded data removed]",
      "text/plain": [
       "<Figure size 432x288 with 1 Axes>"
      ]
     },
     "metadata": {},
     "output_type": "display_data"
    }
   ],
   "source": [
    "dat_proc.plot_demo(DataStruct, Q_opt)"
   ]
  },
  {
   "cell_type": "markdown",
   "metadata": {},
   "source": [
    "Datasets completely align reducing the separation index to its minimum (0.5). Optimized subspaces remain orthogonal \n",
    "but explain equal amount of variance in both datasets.\n",
    "\n",
    "In the following we show that different sample sizes and variances do not bias this method i.e. non-greeedy (as would be the case for other related methods):"
   ]
  },
  {
   "cell_type": "code",
   "execution_count": 21,
   "metadata": {},
   "outputs": [
    {
     "name": "stdout",
     "output_type": "stream",
     "text": [
      "2\n",
      "Compiling cost function...\n",
      "Computing gradient of cost function...\n",
      "Computing Hessian of cost function...\n",
      "[0.49992664 0.25590876]\n",
      "[<autograd.numpy.numpy_boxes.ArrayBox object at 0x0000022A4BFA7548>\n",
      " <autograd.numpy.numpy_boxes.ArrayBox object at 0x0000022A4BF9CDC8>]\n",
      "Optimizing...\n",
      "                                            f: +2.441646e-01   |grad|: 3.448668e-01\n",
      "[<autograd.numpy.numpy_boxes.ArrayBox object at 0x0000022A4BE8D748>\n",
      " <autograd.numpy.numpy_boxes.ArrayBox object at 0x0000022A4BF9CF08>]\n",
      "[<autograd.numpy.numpy_boxes.ArrayBox object at 0x0000022A4BF9CE88>\n",
      " <autograd.numpy.numpy_boxes.ArrayBox object at 0x0000022A4BFA7C08>]\n",
      "[0.49076637 0.31724304]\n",
      "[<autograd.numpy.numpy_boxes.ArrayBox object at 0x0000022A4BF9CF88>\n",
      " <autograd.numpy.numpy_boxes.ArrayBox object at 0x0000022A4BFA7508>]\n",
      "acc TR+   k:     1     num_inner:     0     f: +1.919906e-01   |grad|: 2.454148e-01   exceeded trust region\n",
      "[<autograd.numpy.numpy_boxes.ArrayBox object at 0x0000022A4BE5C888>\n",
      " <autograd.numpy.numpy_boxes.ArrayBox object at 0x0000022A4BFA78C8>]\n",
      "[<autograd.numpy.numpy_boxes.ArrayBox object at 0x0000022A4BFA7CC8>\n",
      " <autograd.numpy.numpy_boxes.ArrayBox object at 0x0000022A4BF40248>]\n",
      "[0.43087267 0.4226377 ]\n",
      "[<autograd.numpy.numpy_boxes.ArrayBox object at 0x0000022A4BDDF6C8>\n",
      " <autograd.numpy.numpy_boxes.ArrayBox object at 0x0000022A4BDE8C08>]\n",
      "acc TR+   k:     2     num_inner:     0     f: +1.464896e-01   |grad|: 1.197752e-02   exceeded trust region\n",
      "[<autograd.numpy.numpy_boxes.ArrayBox object at 0x0000022A4BDE8C08>\n",
      " <autograd.numpy.numpy_boxes.ArrayBox object at 0x0000022A4BED1B88>]\n",
      "[<autograd.numpy.numpy_boxes.ArrayBox object at 0x0000022A4BEACDC8>\n",
      " <autograd.numpy.numpy_boxes.ArrayBox object at 0x0000022A4BFA72C8>]\n",
      "[0.42668505 0.42692695]\n",
      "[<autograd.numpy.numpy_boxes.ArrayBox object at 0x0000022A4BF51108>\n",
      " <autograd.numpy.numpy_boxes.ArrayBox object at 0x0000022A4BF4A288>]\n",
      "acc       k:     3     num_inner:     0     f: +1.463880e-01   |grad|: 1.724616e-06   maximum inner iterations\n",
      "[<autograd.numpy.numpy_boxes.ArrayBox object at 0x0000022A4BF3EAC8>\n",
      " <autograd.numpy.numpy_boxes.ArrayBox object at 0x0000022A4BDDF6C8>]\n",
      "[<autograd.numpy.numpy_boxes.ArrayBox object at 0x0000022A4BF3EB88>\n",
      " <autograd.numpy.numpy_boxes.ArrayBox object at 0x0000022A4BF71F48>]\n",
      "[0.42668566 0.42692634]\n",
      "[<autograd.numpy.numpy_boxes.ArrayBox object at 0x0000022A4BF4A588>\n",
      " <autograd.numpy.numpy_boxes.ArrayBox object at 0x0000022A4BF40148>]\n",
      "acc       k:     4     num_inner:     0     f: +1.463880e-01   |grad|: 5.502328e-16   maximum inner iterations\n",
      "Terminated - min grad norm reached after 4 iterations, 0.12 seconds.\n",
      "\n"
     ]
    }
   ],
   "source": [
    "# Now we bias dataset B by lowering sample numbers and decreasing variance\n",
    "theta = 45.\n",
    "var_b = .2\n",
    "n_samples_b = 100\n",
    "\n",
    "A,B = create_toy_data(theta, var_b ,n_samples_b)\n",
    "# set up data (dimensionalities set two 1 for sake of example)\n",
    "DataStruct = pd.DataFrame([[A, 1], [B, 1]], columns=['A', 'dim'])\n",
    "# preprocess data\n",
    "dat_proc = orth_subspaces(DataStruct)\n",
    "# perform optimization\n",
    "Q_opt = dat_proc.estimate_orth_subspaces(DataStruct)"
   ]
  },
  {
   "cell_type": "code",
   "execution_count": 22,
   "metadata": {},
   "outputs": [
    {
     "data": {
      "image/png": "[encoded data removed]",
      "text/plain": [
       "<Figure size 432x288 with 1 Axes>"
      ]
     },
     "metadata": {},
     "output_type": "display_data"
    }
   ],
   "source": [
    "dat_proc.plot_demo(DataStruct, Q_opt)"
   ]
  },
  {
   "cell_type": "markdown",
   "metadata": {},
   "source": [
    "Note, the method displays no obvious bias toward the orange dataset. "
   ]
  }
 ],
 "metadata": {
  "kernelspec": {
   "display_name": "Python 3",
   "language": "python",
   "name": "python3"
  },
  "language_info": {
   "codemirror_mode": {
    "name": "ipython",
    "version": 3
   },
   "file_extension": ".py",
   "mimetype": "text/x-python",
   "name": "python",
   "nbconvert_exporter": "python",
   "pygments_lexer": "ipython3",
   "version": "3.7.1"
  }
 },
 "nbformat": 4,
 "nbformat_minor": 2
}
